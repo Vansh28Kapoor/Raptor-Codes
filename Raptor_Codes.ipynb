{
  "nbformat": 4,
  "nbformat_minor": 0,
  "metadata": {
    "colab": {
      "provenance": []
    },
    "kernelspec": {
      "name": "python3",
      "display_name": "Python 3"
    },
    "language_info": {
      "name": "python"
    }
  },
  "cells": [
    {
      "cell_type": "code",
      "execution_count": null,
      "metadata": {
        "colab": {
          "base_uri": "https://localhost:8080/"
        },
        "id": "rSMjvn_DGc6K",
        "outputId": "da0efa1c-f5c5-4fb3-d90d-8293da2c8ffe"
      },
      "outputs": [
        {
          "output_type": "stream",
          "name": "stderr",
          "text": [
            "/usr/local/lib/python3.7/dist-packages/ipykernel_launcher.py:94: RuntimeWarning: divide by zero encountered in true_divide\n",
            "/usr/local/lib/python3.7/dist-packages/ipykernel_launcher.py:94: RuntimeWarning: invalid value encountered in true_divide\n"
          ]
        },
        {
          "output_type": "display_data",
          "data": {
            "text/plain": [
              "<Figure size 432x288 with 1 Axes>"
            ],
            "image/png": "[encoded data removed]"
          },
          "metadata": {
            "needs_background": "light"
          }
        }
      ],
      "source": [
        "import numpy as np\n",
        "import matplotlib.pylab as plt\n",
        "from scipy import stats as st\n",
        "def encode_mask(mask):\n",
        "    encoding = np.where(mask)\n",
        "    return encoding\n",
        "\n",
        "def decode_mask(encoding, K):\n",
        "    mask = np.zeros(K, dtype=bool)\n",
        "    for i in encoding:\n",
        "        mask[i] = True\n",
        "    return mask\n",
        "\n",
        "def random_LT_encode_once(message):\n",
        "    K = len(message)\n",
        "    mask = np.random.randint(0, high = 2, size = [K], dtype = bool)\n",
        "    symbol = np.logical_xor.reduce(mask*message)\n",
        "    encoded_mask = encode_mask(mask)\n",
        "    return encoded_mask, symbol\n",
        "\n",
        "def random_LT_encode(message, N):\n",
        "    # returns N output symbols using the random LT code\n",
        "    encoded_mask = []\n",
        "    transmit = []\n",
        "\n",
        "    for i in range(N):\n",
        "        encoded_mask_i, transmit_i = random_LT_encode_once(message)\n",
        "        encoded_mask.append(encoded_mask_i)\n",
        "        transmit.append(transmit_i)\n",
        "    transmit = np.array(transmit)\n",
        "\n",
        "    return encoded_mask, transmit\n",
        "\n",
        "def SolveGaussElim(A, b):\n",
        "    N, K  = A.shape\n",
        "    Ab = np.concatenate((A, b), axis = 1)\n",
        "\n",
        "    for i in range(K):\n",
        "        below_diag = Ab[i:N, i]\n",
        "        if not np.any(below_diag):\n",
        "            return None\n",
        "\n",
        "        row_1 = below_diag.nonzero()[0][0]\n",
        "        if not ((row_1 + i) == i):\n",
        "            upper_row = Ab[i, :].copy()\n",
        "            lower_row = Ab[row_1+i, :].copy()\n",
        "            Ab[row_1+i, :] = upper_row\n",
        "            Ab[i, :] = lower_row\n",
        "\n",
        "\n",
        "        for j in range(N):\n",
        "            if Ab[j, i] == True and (j!=i):\n",
        "                Ab[j,:] = Ab[j,:] ^ Ab[i,:]\n",
        "\n",
        "    Ab = Ab[0:K, :] # discarding rows below last pivot\n",
        "    x = Ab[:,K]\n",
        "    return x\n",
        "\n",
        "def ML_decode(received, K):\n",
        "    encoded_masks, symbols = received\n",
        "    masks = [decode_mask(i, K) for i in encoded_masks]\n",
        "    A = np.vstack(masks)\n",
        "    b = np.vstack(symbols)\n",
        "    # Implement Gaussian Elimination Ax = b\n",
        "    return SolveGaussElim(A, b)\n",
        "\n",
        "def BP_decode(received, K):\n",
        "    pass\n",
        "\n",
        "N=70\n",
        "K=40\n",
        "itr=10\n",
        "array=np.zeros((N,K),dtype='float')\n",
        "def Binary(K,N):\n",
        "    message = np.random.randint(0, high = 2, size = [K], dtype = bool)\n",
        "    transmitted = random_LT_encode(message, N)\n",
        "    received = transmitted\n",
        "    decoded = ML_decode(received, K)\n",
        "    success = True\n",
        "    if decoded is None:\n",
        "        success = False\n",
        "    return success\n",
        "\n",
        "for n in range(1,N+1):\n",
        "    for k in range(1,K):\n",
        "        x=[]\n",
        "        for i in range(itr):\n",
        "            y=Binary(k,n)\n",
        "            x.append(y)\n",
        "        array[N-n,k-1]=np.mean(x)\n",
        "\n",
        "array=array[:,3:K-1]\n",
        "for k in range(array.shape[1]):\n",
        "    array[:,k]=array[:,k]/k**0.5\n",
        "# ax.invert_yaxis()\n",
        "plt.imshow(array, cmap='hot', interpolation='nearest')\n",
        "# x=np.arange(1,K)\n",
        "# y=(x)*np.log(x)\n",
        "# plt.plot(x,y)\n",
        "plt.show()\n",
        "\n",
        "\n",
        "#K = 6\n",
        "# epsilon = 0.5\n",
        "# N = 8 # int(K*(1+epsilon))\n",
        "# message = np.random.randint(0, high = 2, size = [K], dtype = bool)\n",
        "# print(message)\n",
        "\n",
        "def Binary(K,N):\n",
        "    message = np.random.randint(0, high = 2, size = [K], dtype = bool)\n",
        "    transmitted = random_LT_encode(message, N)\n",
        "    received = transmitted\n",
        "    decoded = ML_decode(received, K)\n",
        "    success = True\n",
        "    if decoded is None:\n",
        "        success = False\n",
        "    return success\n",
        "\n",
        "\n"
      ]
    },
    {
      "cell_type": "code",
      "source": [
        "array1=array[150:201,0:50].copy()\n",
        "# array1[array1<0.5]=0\n",
        "# array1[array1<0.8]=0.3\n",
        "# array1[array1<0.9]=0.9\n",
        "# array1[array1<=0.9]=0\n",
        "x=np.arange(0,50)\n",
        "y=50-0.275*((x+1)*np.log(x+1))\n",
        "plt.imshow(array1, cmap='hot', interpolation='nearest')\n",
        "plt.plot(x,y)"
      ],
      "metadata": {
        "colab": {
          "base_uri": "https://localhost:8080/",
          "height": 283
        },
        "id": "QVGkuG1bGid7",
        "outputId": "9a322be5-2f5b-4e21-d0a5-6d87b9ba1175"
      },
      "execution_count": null,
      "outputs": [
        {
          "output_type": "execute_result",
          "data": {
            "text/plain": [
              "[<matplotlib.lines.Line2D at 0x7f1b6645ee90>]"
            ]
          },
          "metadata": {},
          "execution_count": 35
        },
        {
          "output_type": "display_data",
          "data": {
            "text/plain": [
              "<Figure size 432x288 with 1 Axes>"
            ],
            "image/png": "[encoded data removed]"
          },
          "metadata": {
            "needs_background": "light"
          }
        }
      ]
    },
    {
      "cell_type": "code",
      "source": [],
      "metadata": {
        "id": "ICJIXB7SmtAH"
      },
      "execution_count": null,
      "outputs": []
    }
  ]
}